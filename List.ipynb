{
 "cells": [
  {
   "cell_type": "code",
   "execution_count": 4,
   "id": "ade73708-569f-450e-9eed-7a04d97e462e",
   "metadata": {},
   "outputs": [
    {
     "name": "stdout",
     "output_type": "stream",
     "text": [
      "[10, 9, 8, 7, 6, 5, 4, 3]\n",
      "['apple', 'mango', 'watermelon', 'licchi', 'banana', 'guava']\n"
     ]
    }
   ],
   "source": [
    "list1 = [10,9,8,7,6,5,4,3]\n",
    "list2 = ['apple','mango','watermelon','licchi','banana','guava']\n",
    "\n",
    "print(list1)\n",
    "print(list2)"
   ]
  },
  {
   "cell_type": "code",
   "execution_count": 5,
   "id": "8972dd3e-0e01-433c-8058-d05374e3eace",
   "metadata": {},
   "outputs": [
    {
     "name": "stdout",
     "output_type": "stream",
     "text": [
      "10\n",
      "9\n",
      "8\n",
      "7\n",
      "6\n",
      "5\n",
      "4\n",
      "3\n",
      "\n",
      "apple\n",
      "mango\n",
      "watermelon\n",
      "licchi\n",
      "banana\n",
      "guava\n"
     ]
    }
   ],
   "source": [
    "for num in list1:\n",
    "    print(num)\n",
    "    \n",
    "print()\n",
    "\n",
    "for item in list2:\n",
    "    print(item)"
   ]
  },
  {
   "cell_type": "code",
   "execution_count": 6,
   "id": "2aec2fb7-eb3c-4c23-80ed-6a41900d30f2",
   "metadata": {},
   "outputs": [
    {
     "name": "stdout",
     "output_type": "stream",
     "text": [
      "mango\n",
      "7\n",
      "[8, 7, 6]\n",
      "['mango', 'watermelon', 'licchi', 'banana', 'guava']\n",
      "['apple', 'mango', 'watermelon', 'licchi', 'banana', 'guava']\n",
      "['guava', 'banana', 'licchi', 'watermelon', 'mango', 'apple']\n",
      "[10, 9, 8, 7, 6, 5, 4, 3]\n",
      "[10, 8, 6, 4]\n",
      "[5, 6, 7, 8, 9]\n",
      "[10, 9, 8, 7, 6]\n",
      "[10, 9, 8, 7, 6, 5, 4, 3]\n"
     ]
    }
   ],
   "source": [
    "## accessing and slicing\n",
    "\n",
    "print(list2[1])\n",
    "print(list1[3])\n",
    "print(list1[2:5])\n",
    "print(list2[1:])\n",
    "print(list2[:])\n",
    "print(list2[::-1])\n",
    "\n",
    "print(list1)\n",
    "print(list1[0:8:2])\n",
    "print(list1[5:0:-1])\n",
    "print(list1[:5])\n",
    "print(list1[::])"
   ]
  },
  {
   "cell_type": "code",
   "execution_count": 9,
   "id": "e6f34689-ea58-432c-9b37-099deb35a911",
   "metadata": {},
   "outputs": [
    {
     "name": "stdout",
     "output_type": "stream",
     "text": [
      "['apple', 'mango', 'strawberry', 'licchi', 'banana', 'guava']\n"
     ]
    }
   ],
   "source": [
    "## modify\n",
    "list2[2] = 'strawberry'\n",
    "print(list2)"
   ]
  },
  {
   "cell_type": "markdown",
   "id": "584a7863-2cf4-48f8-ad4a-c5f2a15e8100",
   "metadata": {},
   "source": [
    "## list method"
   ]
  },
  {
   "cell_type": "code",
   "execution_count": 27,
   "id": "06010f84-d267-4eef-9dae-0cc9f8f02fdc",
   "metadata": {},
   "outputs": [
    {
     "name": "stdout",
     "output_type": "stream",
     "text": [
      "[10, 9, 8, 7, 6, 5, 4, 3]\n",
      "[10, 9, 8, 7, 6, 5, 4, 3, 20]\n",
      "[10, 9, 3, 8, 7, 6, 5, 4, 3, 20]\n",
      "[10, 9, 3, 8, 7, 6, 5, 4, 3]\n",
      "[10, 9, 3, 8, 6, 5, 4, 3]\n",
      "2\n",
      "3\n",
      "[3, 4, 5, 6, 8, 3, 9, 10]\n",
      "[3, 3, 4, 5, 6, 8, 9, 10]\n",
      "8\n",
      "[3, 3, 4, 5, 6, 8, 9, 10, 21, 22, 23]\n",
      "[]\n"
     ]
    }
   ],
   "source": [
    "list1 = [10,9,8,7,6,5,4,3]\n",
    "print(list1)\n",
    "\n",
    "list1.append(20)\n",
    "print(list1)\n",
    "\n",
    "list1.insert(2,3)\n",
    "print(list1)\n",
    "\n",
    "list1.pop()\n",
    "print(list1)\n",
    "\n",
    "list1.remove(7)\n",
    "print(list1)\n",
    "\n",
    "print(list1.count(3))\n",
    "\n",
    "print(list1.index(8))\n",
    "\n",
    "list1.reverse()\n",
    "print(list1)\n",
    "\n",
    "list1.sort()\n",
    "print(list1)\n",
    "\n",
    "print(len(list1))\n",
    "\n",
    "list1.extend([21,22,23])\n",
    "print(list1)\n",
    "\n",
    "list1.clear()\n",
    "print(list1)\n",
    "\n"
   ]
  },
  {
   "cell_type": "markdown",
   "id": "3bb69aab-34c5-4b07-bb0b-ce43416b06d8",
   "metadata": {},
   "source": [
    "## shallow copy and deep copy"
   ]
  },
  {
   "cell_type": "code",
   "execution_count": 36,
   "id": "ff350b1a-c71c-4b29-86e2-97cc1928f31d",
   "metadata": {},
   "outputs": [
    {
     "name": "stdout",
     "output_type": "stream",
     "text": [
      "[10, 9, 8, 7, 6, 5, 4, 3]\n",
      "[10, 9, 8, 7, 6, 5, 4, 3] \n",
      "\n",
      "[11, 9, 8, 7, 6, 5, 4, 3]\n",
      "[11, 9, 8, 7, 6, 5, 4, 3] \n",
      "\n",
      "[11, 9, 8, 7, 6, 5, 4, 3]\n",
      "[11, 9, 8, 7, 6, 5, 4, 3] \n",
      "\n",
      "[11, 9, 8, 7, 6, 5, 4, 3]\n",
      "[100, 9, 8, 7, 6, 5, 4, 3]\n"
     ]
    }
   ],
   "source": [
    "l1 = [10,9,8,7,6,5,4,3]\n",
    "l2  = l1\n",
    "\n",
    "print(l1)\n",
    "print(l2,'\\n')\n",
    "\n",
    "l2[0] = 11\n",
    "\n",
    "print(l1)\n",
    "print(l2,'\\n')\n",
    "\n",
    "l3 = l1.copy() #shallow copy\n",
    "print(l1)\n",
    "print(l2,'\\n')\n",
    "\n",
    "l3[0] = 100\n",
    "print(l1)\n",
    "print(l3)\n"
   ]
  },
  {
   "cell_type": "markdown",
   "id": "5f0e3bdc-55b5-4b26-8e1d-b6df0bc5bf33",
   "metadata": {},
   "source": [
    "## list comprehension"
   ]
  },
  {
   "cell_type": "code",
   "execution_count": 37,
   "id": "d4750ed9-994b-4a3f-a0c6-8770d2268bd6",
   "metadata": {},
   "outputs": [
    {
     "data": {
      "text/plain": [
       "[0, 1, 4, 9, 16, 25, 36, 49, 64, 81]"
      ]
     },
     "execution_count": 37,
     "metadata": {},
     "output_type": "execute_result"
    }
   ],
   "source": [
    "sq = [i**2 for i in range(10)]\n",
    "sq"
   ]
  },
  {
   "cell_type": "code",
   "execution_count": 38,
   "id": "c56aa68c-c169-42d9-a29d-fd70f33efe8d",
   "metadata": {},
   "outputs": [
    {
     "data": {
      "text/plain": [
       "[1, 3, 5, 7, 9]"
      ]
     },
     "execution_count": 38,
     "metadata": {},
     "output_type": "execute_result"
    }
   ],
   "source": [
    "odd = [i for i in range(10) if i%2 == 1]\n",
    "odd"
   ]
  },
  {
   "cell_type": "code",
   "execution_count": 39,
   "id": "b95f8c87-f0cf-4502-bce3-9f569821e12b",
   "metadata": {},
   "outputs": [
    {
     "data": {
      "text/plain": [
       "[5, 5, 10, 6, 6, 5]"
      ]
     },
     "execution_count": 39,
     "metadata": {},
     "output_type": "execute_result"
    }
   ],
   "source": [
    "list2 = ['apple','mango','watermelon','licchi','banana','guava']\n",
    "l = [len(item) for item in list2]\n",
    "l"
   ]
  },
  {
   "cell_type": "code",
   "execution_count": 41,
   "id": "af9e19a9-b00b-4810-8498-f2c7d895c9ef",
   "metadata": {},
   "outputs": [
    {
     "data": {
      "text/plain": [
       "[[1, 'apple'],\n",
       " [1, 'mango'],\n",
       " [1, 'watermelon'],\n",
       " [1, 'licchi'],\n",
       " [1, 'banana'],\n",
       " [1, 'guava'],\n",
       " [2, 'apple'],\n",
       " [2, 'mango'],\n",
       " [2, 'watermelon'],\n",
       " [2, 'licchi'],\n",
       " [2, 'banana'],\n",
       " [2, 'guava']]"
      ]
     },
     "execution_count": 41,
     "metadata": {},
     "output_type": "execute_result"
    }
   ],
   "source": [
    "list = [1,2]\n",
    "list2 = ['apple','mango','watermelon','licchi','banana','guava']\n",
    "\n",
    "pair = [[i,item]for i in list for item in list2]\n",
    "pair"
   ]
  },
  {
   "cell_type": "code",
   "execution_count": null,
   "id": "df2c930f-46cf-4051-9aa0-9cd855c9137b",
   "metadata": {},
   "outputs": [],
   "source": []
  }
 ],
 "metadata": {
  "kernelspec": {
   "display_name": "Python 3 (ipykernel)",
   "language": "python",
   "name": "python3"
  },
  "language_info": {
   "codemirror_mode": {
    "name": "ipython",
    "version": 3
   },
   "file_extension": ".py",
   "mimetype": "text/x-python",
   "name": "python",
   "nbconvert_exporter": "python",
   "pygments_lexer": "ipython3",
   "version": "3.13.5"
  }
 },
 "nbformat": 4,
 "nbformat_minor": 5
}
