{
 "cells": [
  {
   "cell_type": "code",
   "execution_count": 1,
   "id": "14c04cac-58b4-49d3-adb5-cf46a9000225",
   "metadata": {},
   "outputs": [
    {
     "name": "stdout",
     "output_type": "stream",
     "text": [
      "hi i am naruto\n",
      "dattebayo\n"
     ]
    }
   ],
   "source": [
    "## reading from a file\n",
    "\n",
    "with open('example.txt','r') as file:\n",
    "    cont1 = file.read()\n",
    "    print(cont1)"
   ]
  },
  {
   "cell_type": "code",
   "execution_count": 4,
   "id": "8c407f81-38dc-455c-b434-7ef17342d55d",
   "metadata": {},
   "outputs": [
    {
     "name": "stdout",
     "output_type": "stream",
     "text": [
      "hi i am naruto\n",
      "dattebayo\n"
     ]
    }
   ],
   "source": [
    "with open('example.txt','r') as file:\n",
    "    for line in file:\n",
    "        print(line.strip())"
   ]
  },
  {
   "cell_type": "code",
   "execution_count": 7,
   "id": "67df3f1a-a90d-4ee2-8149-ec712c302d27",
   "metadata": {},
   "outputs": [],
   "source": [
    "## writting to a file\n",
    "\n",
    "with open('example.txt','w') as file:\n",
    "    file.write('hi everyone')"
   ]
  },
  {
   "cell_type": "code",
   "execution_count": 8,
   "id": "139dbc49-a0b2-4d0b-af5f-40daf5e08f40",
   "metadata": {},
   "outputs": [],
   "source": [
    "## adding text to a a file\n",
    "\n",
    "with open('example.txt','a') as file:\n",
    "    file.write('naruto hokage')"
   ]
  },
  {
   "cell_type": "code",
   "execution_count": 10,
   "id": "f4e12395-8c11-489c-95ae-921f727885a1",
   "metadata": {},
   "outputs": [],
   "source": [
    "lines = ['hi \\n','hello \\n']\n",
    "with open('example.txt','a') as file:\n",
    "    file.writelines(lines)"
   ]
  },
  {
   "cell_type": "code",
   "execution_count": 13,
   "id": "6d091005-12e8-4ee6-a484-b41e011b2bd5",
   "metadata": {},
   "outputs": [],
   "source": [
    "with open('example.txt','r') as file:\n",
    "    cont = file.read()\n",
    "with open('ans.txt','w') as file:\n",
    "    file.write(cont)"
   ]
  },
  {
   "cell_type": "code",
   "execution_count": 27,
   "id": "85503593-7fc6-4025-80d0-741f619b365c",
   "metadata": {},
   "outputs": [
    {
     "name": "stdout",
     "output_type": "stream",
     "text": [
      "2\n",
      "8\n",
      "45\n"
     ]
    }
   ],
   "source": [
    "## total line,word,character count in a file\n",
    "\n",
    "with open('ans.txt','r') as file:\n",
    "    lines = file.readlines()\n",
    "    line = len(lines)\n",
    "    print(line)\n",
    "\n",
    "    word = sum(len(line.split()) for line in lines)\n",
    "    print(word)\n",
    "\n",
    "    char = sum(len(line) for line in lines)\n",
    "    print(char)\n",
    "    "
   ]
  },
  {
   "cell_type": "code",
   "execution_count": 33,
   "id": "1c6ec481-835e-45c2-b0fe-a31c039b71b7",
   "metadata": {},
   "outputs": [
    {
     "name": "stdout",
     "output_type": "stream",
     "text": [
      "thanks for trying\n"
     ]
    }
   ],
   "source": [
    "## writting and reading at the same time\n",
    "\n",
    "with open('ans.txt','w+') as file:\n",
    "    file.write('thanks for trying')\n",
    "\n",
    "    file.seek(0)  ## this line takes the cursor at the begining . without this the coursor will point at the end.\n",
    "\n",
    "    con = file.read()\n",
    "    print(con)"
   ]
  }
 ],
 "metadata": {
  "kernelspec": {
   "display_name": "Python 3 (ipykernel)",
   "language": "python",
   "name": "python3"
  },
  "language_info": {
   "codemirror_mode": {
    "name": "ipython",
    "version": 3
   },
   "file_extension": ".py",
   "mimetype": "text/x-python",
   "name": "python",
   "nbconvert_exporter": "python",
   "pygments_lexer": "ipython3",
   "version": "3.13.5"
  }
 },
 "nbformat": 4,
 "nbformat_minor": 5
}
