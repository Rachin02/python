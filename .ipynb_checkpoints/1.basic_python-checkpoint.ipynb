{
 "cells": [
  {
   "cell_type": "markdown",
   "id": "38ea16bd-982c-43f6-890d-e530a6ab1cd1",
   "metadata": {},
   "source": [
    "## Basic python"
   ]
  },
  {
   "cell_type": "code",
   "execution_count": 2,
   "id": "322a7808-39ab-4169-8777-916503daa5a5",
   "metadata": {},
   "outputs": [
    {
     "name": "stdout",
     "output_type": "stream",
     "text": [
      "begining of ai engineer\n"
     ]
    }
   ],
   "source": [
    "print(\"begining of ai engineer\")"
   ]
  },
  {
   "cell_type": "code",
   "execution_count": 3,
   "id": "48e6ccaa-6771-4bf2-a665-c03579f1fd54",
   "metadata": {},
   "outputs": [
    {
     "name": "stdin",
     "output_type": "stream",
     "text": [
      "Enter your name:  rachin\n"
     ]
    },
    {
     "name": "stdout",
     "output_type": "stream",
     "text": [
      "rachin\n"
     ]
    }
   ],
   "source": [
    "value = input(\"Enter your name: \")\n",
    "print(value)"
   ]
  },
  {
   "cell_type": "code",
   "execution_count": null,
   "id": "0d067c8d-203b-44be-8393-33154edbaf1f",
   "metadata": {},
   "outputs": [],
   "source": [
    "a = 12\n",
    "b = 'data science'\n",
    "c = 12.53\n",
    "d = True\n",
    "\n",
    "print(a, type(a))\n",
    "print(b, type(b))\n",
    "print(c, type(c))\n",
    "print(d, type(d))"
   ]
  },
  {
   "cell_type": "code",
   "execution_count": 8,
   "id": "f17c2b22-24bb-43b7-920f-c7e3359f38cb",
   "metadata": {},
   "outputs": [
    {
     "name": "stdout",
     "output_type": "stream",
     "text": [
      "The value is 12 is right\n"
     ]
    }
   ],
   "source": [
    "#fstring\n",
    "print(f'The value is {a} is right')"
   ]
  },
  {
   "cell_type": "code",
   "execution_count": 10,
   "id": "804a9537-e7bc-4193-8fc9-a11044af3997",
   "metadata": {},
   "outputs": [
    {
     "data": {
      "text/plain": [
       "'this is multi\\nline \\n    comment'"
      ]
     },
     "execution_count": 10,
     "metadata": {},
     "output_type": "execute_result"
    }
   ],
   "source": [
    "##doc string\n",
    "'''this is multi\n",
    "line \n",
    "    comment'''"
   ]
  },
  {
   "cell_type": "markdown",
   "id": "bfeb7b15-872f-4582-999b-ef463f424c4e",
   "metadata": {},
   "source": [
    "#### type casting"
   ]
  },
  {
   "cell_type": "code",
   "execution_count": 11,
   "id": "08c047e1-fc54-47d1-a485-7d46c84b5610",
   "metadata": {},
   "outputs": [
    {
     "name": "stdout",
     "output_type": "stream",
     "text": [
      "12 <class 'int'>\n",
      "hi <class 'str'>\n"
     ]
    }
   ],
   "source": [
    "a = 12\n",
    "print(a,type(a))\n",
    "a = 'hi'\n",
    "print(a, type(a))"
   ]
  },
  {
   "cell_type": "markdown",
   "id": "e77f8e87-5d13-49d9-8815-ae54f17ff0ff",
   "metadata": {},
   "source": [
    "### operator"
   ]
  },
  {
   "cell_type": "code",
   "execution_count": 21,
   "id": "b48b10cb-0104-43a1-ad3a-3b231fab7306",
   "metadata": {},
   "outputs": [
    {
     "name": "stdout",
     "output_type": "stream",
     "text": [
      "20 4\n",
      "96 1.5\n",
      "1 4\n",
      "429981696\n"
     ]
    }
   ],
   "source": [
    "a = 12\n",
    "b = 8\n",
    "add = a+b\n",
    "sub = a-b\n",
    "mul = a*b\n",
    "div = a/b\n",
    "fdiv = a//b\n",
    "mod = a%b\n",
    "exp = a**b\n",
    "\n",
    "print(add ,sub)\n",
    "print(mul, div)\n",
    "print(fdiv, mod)\n",
    "print(exp)"
   ]
  },
  {
   "cell_type": "markdown",
   "id": "3de5ecf4-2f29-40f5-9663-614efbc782c1",
   "metadata": {},
   "source": [
    "### basic calculator"
   ]
  },
  {
   "cell_type": "code",
   "execution_count": 23,
   "id": "daede018-d7fc-4120-861f-56c5cd028c1e",
   "metadata": {},
   "outputs": [
    {
     "name": "stdin",
     "output_type": "stream",
     "text": [
      "enter num 1 :  2\n",
      "enter num 2 :  3\n"
     ]
    },
    {
     "name": "stdout",
     "output_type": "stream",
     "text": [
      "addition :  5\n",
      "substruction :  -1\n"
     ]
    }
   ],
   "source": [
    "a = int(input(\"enter num 1 : \"))\n",
    "b = int(input(\"enter num 2 : \"))\n",
    "print(\"addition : \",a+b)\n",
    "print(\"substruction : \",a-b)"
   ]
  },
  {
   "cell_type": "markdown",
   "id": "463fa3df-cbff-4150-9d02-4dcbb0c8b929",
   "metadata": {},
   "source": [
    "# condition"
   ]
  },
  {
   "cell_type": "code",
   "execution_count": 31,
   "id": "896c2b95-06fc-46ab-a69f-78350485639b",
   "metadata": {},
   "outputs": [
    {
     "name": "stdin",
     "output_type": "stream",
     "text": [
      "enter your age :  30\n",
      "Enter answer :  no\n"
     ]
    },
    {
     "name": "stdout",
     "output_type": "stream",
     "text": [
      "No discount is availabe for you\n"
     ]
    }
   ],
   "source": [
    "age = int(input(\"enter your age : \"))\n",
    "\n",
    "if age > 18 : \n",
    "    isStudent = input(\"Enter answer : \")\n",
    "    if isStudent.lower() == 'yes':\n",
    "        print(\"Your have 50% discount\")\n",
    "    else:\n",
    "        print(\"No discount is availabe for you\")\n",
    "elif age == 18:\n",
    "    print(\"Enjoy your last discount year\")\n",
    "else:\n",
    "    print(\"You have 50% discount\")\n"
   ]
  },
  {
   "cell_type": "markdown",
   "id": "88a7df9c-eb0e-414f-80a7-345cf1cd5d9a",
   "metadata": {},
   "source": [
    "#### leap year"
   ]
  },
  {
   "cell_type": "code",
   "execution_count": 34,
   "id": "6f3a74dd-bcd6-4249-aac5-6428aacc54c9",
   "metadata": {},
   "outputs": [
    {
     "name": "stdin",
     "output_type": "stream",
     "text": [
      "enter year : 2016\n"
     ]
    },
    {
     "name": "stdout",
     "output_type": "stream",
     "text": [
      "2016 is a leap year\n"
     ]
    }
   ],
   "source": [
    "leap = int(input(\"enter year :\"))\n",
    "\n",
    "\n",
    "if leap%4 == 0:\n",
    "    if leap %100 == 0:\n",
    "         if leap%400 == 0:\n",
    "             print(f'{leap} is a leap year')\n",
    "         else:\n",
    "             print(f'{leap} is not a leap year')\n",
    "    else:\n",
    "             print(f'{leap} is a leap year')\n",
    "else:\n",
    "     print(f'{leap} is not a leap year')"
   ]
  },
  {
   "cell_type": "markdown",
   "id": "a28c7cd6-4b23-4256-b31b-2c2cba44ee22",
   "metadata": {},
   "source": [
    "# loop"
   ]
  },
  {
   "cell_type": "code",
   "execution_count": 35,
   "id": "795da649-27ea-4a6c-abd8-3c0c2f56e3b6",
   "metadata": {},
   "outputs": [
    {
     "name": "stdout",
     "output_type": "stream",
     "text": [
      "1\n",
      "2\n",
      "3\n",
      "4\n",
      "5\n",
      "6\n",
      "7\n",
      "8\n",
      "9\n"
     ]
    }
   ],
   "source": [
    "for i in range(1,10):\n",
    "    print(i)"
   ]
  },
  {
   "cell_type": "code",
   "execution_count": 36,
   "id": "f5430ec7-245a-4125-a413-163b34947323",
   "metadata": {},
   "outputs": [
    {
     "name": "stdout",
     "output_type": "stream",
     "text": [
      "1\n",
      "3\n",
      "5\n",
      "7\n",
      "9\n"
     ]
    }
   ],
   "source": [
    "for i in range(1,10,2):\n",
    "    print(i)"
   ]
  },
  {
   "cell_type": "code",
   "execution_count": 37,
   "id": "d9fac631-1b0e-4bbc-b24a-248abfef4a19",
   "metadata": {},
   "outputs": [
    {
     "name": "stdout",
     "output_type": "stream",
     "text": [
      "10\n",
      "9\n",
      "8\n",
      "7\n",
      "6\n",
      "5\n",
      "4\n",
      "3\n",
      "2\n"
     ]
    }
   ],
   "source": [
    "for i in range(10,1,-1):\n",
    "    print(i)"
   ]
  },
  {
   "cell_type": "code",
   "execution_count": 38,
   "id": "85f02cb6-affc-4d44-8c2c-e7d55b003627",
   "metadata": {},
   "outputs": [
    {
     "name": "stdout",
     "output_type": "stream",
     "text": [
      "i = 1, j = 4\n",
      "i = 1, j = 5\n",
      "i = 2, j = 4\n",
      "i = 2, j = 5\n"
     ]
    }
   ],
   "source": [
    "for i in range(1,3):\n",
    "    for j in range(4,6):\n",
    "        print(f'i = {i}, j = {j}')"
   ]
  },
  {
   "cell_type": "code",
   "execution_count": 46,
   "id": "c56dd47f-c824-4064-be1a-6e93c05a5a99",
   "metadata": {},
   "outputs": [
    {
     "name": "stdout",
     "output_type": "stream",
     "text": [
      "hi, count is :  5\n",
      "hi, count is :  4\n",
      "hi, count is :  3\n",
      "hi, count is :  2\n",
      "hi, count is :  1\n",
      "hi, count is :  0\n"
     ]
    }
   ],
   "source": [
    "## while loop\n",
    "\n",
    "count = 5\n",
    "while count >=0:\n",
    "    print('hi, count is : ',count)\n",
    "    count-=1"
   ]
  },
  {
   "cell_type": "code",
   "execution_count": 59,
   "id": "32956c04-d419-43d0-a539-8258434f9be2",
   "metadata": {},
   "outputs": [
    {
     "name": "stdin",
     "output_type": "stream",
     "text": [
      " 100\n"
     ]
    },
    {
     "name": "stdout",
     "output_type": "stream",
     "text": [
      "1  prime number\n",
      "2  prime number\n",
      "3  prime number\n",
      "5  prime number\n",
      "7  prime number\n",
      "11  prime number\n",
      "13  prime number\n",
      "17  prime number\n",
      "19  prime number\n",
      "23  prime number\n",
      "29  prime number\n",
      "31  prime number\n",
      "37  prime number\n",
      "41  prime number\n",
      "43  prime number\n",
      "47  prime number\n",
      "53  prime number\n",
      "59  prime number\n",
      "61  prime number\n",
      "67  prime number\n",
      "71  prime number\n",
      "73  prime number\n",
      "79  prime number\n",
      "83  prime number\n",
      "89  prime number\n",
      "97  prime number\n"
     ]
    }
   ],
   "source": [
    "## prime number \n",
    "\n",
    "a = int(input())\n",
    "for i in range(1,a):\n",
    "    flag = False\n",
    "    for j in range(2,i):\n",
    "            if i%j == 0 :\n",
    "                flag = True\n",
    "                break\n",
    "    if flag == False:\n",
    "        print(i, \" prime number\")"
   ]
  },
  {
   "cell_type": "code",
   "execution_count": 61,
   "id": "4aebd643-2074-4364-8ed1-596bc04c23fc",
   "metadata": {},
   "outputs": [
    {
     "name": "stdout",
     "output_type": "stream",
     "text": [
      "0 100\n",
      "1 200\n",
      "2 300\n",
      "3 400\n",
      "4 500\n"
     ]
    }
   ],
   "source": [
    "a = [100,200,300,400,500]   #index with value\n",
    "for i,value in enumerate(a):\n",
    "    print(i, value)"
   ]
  }
 ],
 "metadata": {
  "kernelspec": {
   "display_name": "Python 3 (ipykernel)",
   "language": "python",
   "name": "python3"
  },
  "language_info": {
   "codemirror_mode": {
    "name": "ipython",
    "version": 3
   },
   "file_extension": ".py",
   "mimetype": "text/x-python",
   "name": "python",
   "nbconvert_exporter": "python",
   "pygments_lexer": "ipython3",
   "version": "3.13.5"
  }
 },
 "nbformat": 4,
 "nbformat_minor": 5
}
