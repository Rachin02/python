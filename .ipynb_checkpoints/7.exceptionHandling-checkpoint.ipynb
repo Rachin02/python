{
 "cells": [
  {
   "cell_type": "code",
   "execution_count": 3,
   "id": "335dcd97-2e12-44c7-9375-442d699d0267",
   "metadata": {},
   "outputs": [
    {
     "name": "stdout",
     "output_type": "stream",
     "text": [
      "division by zero\n"
     ]
    }
   ],
   "source": [
    "try:\n",
    "    a = 10/0\n",
    "except ZeroDivisionError as ex:\n",
    "    print(ex)\n",
    "    "
   ]
  },
  {
   "cell_type": "code",
   "execution_count": 6,
   "id": "db4e710b-5576-46d9-939a-c2e09074f252",
   "metadata": {},
   "outputs": [
    {
     "name": "stdout",
     "output_type": "stream",
     "text": [
      "name 'c' is not defined\n"
     ]
    }
   ],
   "source": [
    "try:\n",
    "    b = c\n",
    "except NameError as ex:\n",
    "    print(ex)\n",
    "\n"
   ]
  },
  {
   "cell_type": "code",
   "execution_count": 17,
   "id": "f3d8884e-d277-44f8-bae6-05193d3d11e2",
   "metadata": {},
   "outputs": [
    {
     "name": "stdout",
     "output_type": "stream",
     "text": [
      "name 'h' is not defined\n",
      "program finished\n"
     ]
    }
   ],
   "source": [
    "try:\n",
    "    a = 10/h\n",
    "except ZeroDivisionError as ex:\n",
    "    print(ex)\n",
    "except NameError as ex:\n",
    "    print(ex)\n",
    "except Exception as ex:\n",
    "    print(ex)\n",
    "else:\n",
    "    print('value is ',a)\n",
    "finally:\n",
    "    print('program finished')"
   ]
  },
  {
   "cell_type": "code",
   "execution_count": null,
   "id": "18461c53-8000-473a-9ef6-73252f639fe5",
   "metadata": {},
   "outputs": [],
   "source": []
  }
 ],
 "metadata": {
  "kernelspec": {
   "display_name": "Python 3 (ipykernel)",
   "language": "python",
   "name": "python3"
  },
  "language_info": {
   "codemirror_mode": {
    "name": "ipython",
    "version": 3
   },
   "file_extension": ".py",
   "mimetype": "text/x-python",
   "name": "python",
   "nbconvert_exporter": "python",
   "pygments_lexer": "ipython3",
   "version": "3.13.5"
  }
 },
 "nbformat": 4,
 "nbformat_minor": 5
}
