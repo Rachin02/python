{
 "cells": [
  {
   "cell_type": "code",
   "execution_count": 3,
   "id": "68f35f45-33b3-4797-8a71-dfacf87978a5",
   "metadata": {},
   "outputs": [
    {
     "data": {
      "text/plain": [
       "('apple', 'mango', 'watermelon', 'licchi', 'banana', 'guava')"
      ]
     },
     "execution_count": 3,
     "metadata": {},
     "output_type": "execute_result"
    }
   ],
   "source": [
    "tup = ()\n",
    "tup\n",
    "tup = ('apple','mango','watermelon','licchi','banana','guava')\n",
    "tup"
   ]
  },
  {
   "cell_type": "code",
   "execution_count": 7,
   "id": "923f49d5-7a4c-4c28-aa7d-ac103261925f",
   "metadata": {},
   "outputs": [
    {
     "name": "stdout",
     "output_type": "stream",
     "text": [
      "mango\n",
      "('apple', 'mango', 'watermelon', 'licchi', 'banana', 'guava')\n",
      "('watermelon', 'licchi', 'banana', 'guava')\n"
     ]
    }
   ],
   "source": [
    "## accessing \n",
    "\n",
    "print(tup[1])\n",
    "print(tup[::])\n",
    "print(tup[2:])"
   ]
  },
  {
   "cell_type": "code",
   "execution_count": 10,
   "id": "baa5122e-2a3c-4523-9d7d-4eaadf3c872a",
   "metadata": {},
   "outputs": [
    {
     "name": "stdout",
     "output_type": "stream",
     "text": [
      "('apple', 'mango', 'watermelon', 'licchi', 'banana', 'guava', 'apple', 'mango', 'watermelon', 'licchi', 'banana', 'guava')\n"
     ]
    }
   ],
   "source": [
    "## operation on tuple\n",
    "tup*=2\n",
    "print(tup)"
   ]
  },
  {
   "cell_type": "code",
   "execution_count": 11,
   "id": "0f9b9d4d-2828-436a-8513-c07e517dc532",
   "metadata": {},
   "outputs": [
    {
     "data": {
      "text/plain": [
       "(1, 4.3, 'dhaka')"
      ]
     },
     "execution_count": 11,
     "metadata": {},
     "output_type": "execute_result"
    }
   ],
   "source": [
    "## mixed tuple\n",
    "t = (1,4.3,'dhaka')\n",
    "t"
   ]
  },
  {
   "cell_type": "code",
   "execution_count": 18,
   "id": "959921c6-f0f1-4d93-a2d0-96797e7fc69d",
   "metadata": {},
   "outputs": [
    {
     "name": "stdout",
     "output_type": "stream",
     "text": [
      "2\n",
      "4\n"
     ]
    }
   ],
   "source": [
    "## tuple method\n",
    "\n",
    "print(tup.count('apple'))\n",
    "print(tup.index('banana'))\n"
   ]
  },
  {
   "cell_type": "code",
   "execution_count": 19,
   "id": "dfb7b92a-0276-4751-9a26-5e7b476d838b",
   "metadata": {},
   "outputs": [
    {
     "name": "stdout",
     "output_type": "stream",
     "text": [
      "(1, 'bangladesh', 'naruto')\n"
     ]
    }
   ],
   "source": [
    "## packaging\n",
    "packaging = 1,'bangladesh','naruto'\n",
    "print(packaging)"
   ]
  },
  {
   "cell_type": "code",
   "execution_count": 20,
   "id": "fab46103-a5d2-487c-81fd-e4d84db7e60b",
   "metadata": {},
   "outputs": [
    {
     "name": "stdout",
     "output_type": "stream",
     "text": [
      "1 bangladesh naruto\n"
     ]
    }
   ],
   "source": [
    "## upackaging\n",
    "a,b,c = packaging\n",
    "print(a,b,c)"
   ]
  },
  {
   "cell_type": "code",
   "execution_count": 21,
   "id": "c4297a33-aec0-403d-a1fe-5e2cb101ebfc",
   "metadata": {},
   "outputs": [
    {
     "name": "stdout",
     "output_type": "stream",
     "text": [
      "1 [2, 3, 4, 5, 6] 8\n"
     ]
    }
   ],
   "source": [
    "t = (1,2,3,4,5,6,8)\n",
    "a,*m,b = t\n",
    "print(a,m,b)"
   ]
  },
  {
   "cell_type": "code",
   "execution_count": 24,
   "id": "ada64916-0909-437c-b38c-b638f1c0d6f5",
   "metadata": {},
   "outputs": [
    {
     "data": {
      "text/plain": [
       "'kakashi'"
      ]
     },
     "execution_count": 24,
     "metadata": {},
     "output_type": "execute_result"
    }
   ],
   "source": [
    "## nested tuple\n",
    "\n",
    "tup = ((1,2,3),(1.1,2.2,3.3),('naruto','madara','kakashi'))\n",
    "tup[2][2]"
   ]
  },
  {
   "cell_type": "markdown",
   "id": "4fbdbab6-921c-42dc-a6bf-4a40a54619c9",
   "metadata": {},
   "source": [
    "## tuple is immutable means if once you declear a tuple you can not change any value later. but if you want to change values of a tuple then first convert it to list then update then convert it again to tuple\n"
   ]
  },
  {
   "cell_type": "code",
   "execution_count": 28,
   "id": "b5d5a289-f0d1-473c-8eb9-700b45608660",
   "metadata": {},
   "outputs": [
    {
     "name": "stdout",
     "output_type": "stream",
     "text": [
      "(1, 2, 4)\n",
      "(1, 2, 3)\n"
     ]
    }
   ],
   "source": [
    "t = (1,2,4)\n",
    "print(t)\n",
    "\n",
    "t = list(t)\n",
    "t[2] = 3\n",
    "t = tuple(t)\n",
    "\n",
    "print(t)\n"
   ]
  },
  {
   "cell_type": "code",
   "execution_count": null,
   "id": "96e256e2-93b1-4d1a-bf01-b2e450bd4c3c",
   "metadata": {},
   "outputs": [],
   "source": []
  }
 ],
 "metadata": {
  "kernelspec": {
   "display_name": "Python 3 (ipykernel)",
   "language": "python",
   "name": "python3"
  },
  "language_info": {
   "codemirror_mode": {
    "name": "ipython",
    "version": 3
   },
   "file_extension": ".py",
   "mimetype": "text/x-python",
   "name": "python",
   "nbconvert_exporter": "python",
   "pygments_lexer": "ipython3",
   "version": "3.13.5"
  }
 },
 "nbformat": 4,
 "nbformat_minor": 5
}
