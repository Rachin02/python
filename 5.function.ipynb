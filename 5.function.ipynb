{
 "cells": [
  {
   "cell_type": "markdown",
   "id": "f2cc58be-7f52-4b17-8215-51c84e6a790a",
   "metadata": {},
   "source": [
    "## function"
   ]
  },
  {
   "cell_type": "code",
   "execution_count": 2,
   "id": "af838312-fb8c-472e-85fd-fdffa619cec7",
   "metadata": {},
   "outputs": [
    {
     "name": "stdout",
     "output_type": "stream",
     "text": [
      "odd\n"
     ]
    }
   ],
   "source": [
    "## A function is a block of code that increase readiblity, reduce code and make code efficient\n",
    "\n",
    "def check(a):\n",
    "    if a%2 == 0:\n",
    "        print(\"even\")\n",
    "    else:\n",
    "        print(\"odd\")\n",
    "check(13)"
   ]
  },
  {
   "cell_type": "code",
   "execution_count": 7,
   "id": "6dc2b928-814a-436c-aba2-8d1cf6cf2e33",
   "metadata": {},
   "outputs": [
    {
     "name": "stdout",
     "output_type": "stream",
     "text": [
      "3\n",
      "3 1\n"
     ]
    }
   ],
   "source": [
    "def sum(a,b):\n",
    "    return a+b\n",
    "a = sum(1,2)\n",
    "print(a)\n",
    "\n",
    "#default paramenter\n",
    "def sub(a,b = 1):\n",
    "    print(a,b)\n",
    "sub(3)"
   ]
  },
  {
   "cell_type": "code",
   "execution_count": 10,
   "id": "80284ac0-d9d6-44f3-8e8c-f5fa25c2f754",
   "metadata": {},
   "outputs": [
    {
     "name": "stdout",
     "output_type": "stream",
     "text": [
      "(1, 2, 3, 4, 5, 6)\n",
      "1\n",
      "2\n",
      "3\n",
      "4\n",
      "5\n",
      "6\n"
     ]
    }
   ],
   "source": [
    "## variable length argument\n",
    "def numbers(*num):\n",
    "    print(num)\n",
    "    for i in num:\n",
    "        print(i)\n",
    "numbers(1,2,3,4,5,6)"
   ]
  },
  {
   "cell_type": "code",
   "execution_count": 15,
   "id": "371b8a8e-a363-4446-a262-7d24ffc82eec",
   "metadata": {},
   "outputs": [
    {
     "name": "stdout",
     "output_type": "stream",
     "text": [
      "ronaldo portugal\n",
      "messi argentina\n"
     ]
    }
   ],
   "source": [
    "## positional and keyword argument\n",
    "\n",
    "def student(**info):\n",
    "    for key, value in info.items():\n",
    "        print(key, value)\n",
    "student(ronaldo='portugal',messi='argentina')\n",
    "        \n"
   ]
  },
  {
   "cell_type": "code",
   "execution_count": 18,
   "id": "ccb9c38a-c46e-48cd-8f64-e85d4cd98d75",
   "metadata": {},
   "outputs": [
    {
     "name": "stdout",
     "output_type": "stream",
     "text": [
      "1\n",
      "2\n",
      "3\n",
      "naruto 100\n",
      "sauske 99\n"
     ]
    }
   ],
   "source": [
    "def all(*num,**arg):\n",
    "    for i in num:\n",
    "        print(i)\n",
    "    for key,value in arg.items():\n",
    "        print(key,value)\n",
    "all(1,2,3, naruto= 100, sauske = 99)"
   ]
  },
  {
   "cell_type": "code",
   "execution_count": 26,
   "id": "7b3ac1eb-fddf-488f-8d47-0bc28032383a",
   "metadata": {},
   "outputs": [
    {
     "name": "stdout",
     "output_type": "stream",
     "text": [
      "True\n"
     ]
    }
   ],
   "source": [
    "def checkPass(password):\n",
    "    if len(password)<8:\n",
    "        return False\n",
    "    if not any(char.isdigit() for char in password):\n",
    "        return False\n",
    "    if not any(char in ('-#@+') for char in password):\n",
    "        return False\n",
    "    if not any(char.isupper() for char in password):\n",
    "        return False\n",
    "    return True\n",
    "    \n",
    "\n",
    "print(checkPass('Naruto112233#'))"
   ]
  },
  {
   "cell_type": "markdown",
   "id": "8353a5d8-7f3a-47ba-9f1e-ee02011257af",
   "metadata": {},
   "source": [
    "## lambda Function"
   ]
  },
  {
   "cell_type": "code",
   "execution_count": 28,
   "id": "ce152746-1ed4-4049-81ff-52aadcf97822",
   "metadata": {},
   "outputs": [
    {
     "name": "stdout",
     "output_type": "stream",
     "text": [
      "7\n"
     ]
    }
   ],
   "source": [
    "add = lambda a,b:a+b\n",
    "print(add(4,3))"
   ]
  },
  {
   "cell_type": "code",
   "execution_count": 29,
   "id": "1b2ae938-f1e3-412d-b32c-b877f9890f89",
   "metadata": {},
   "outputs": [
    {
     "data": {
      "text/plain": [
       "True"
      ]
     },
     "execution_count": 29,
     "metadata": {},
     "output_type": "execute_result"
    }
   ],
   "source": [
    "even = lambda a: a%2== 0\n",
    "even(12)"
   ]
  },
  {
   "cell_type": "code",
   "execution_count": 30,
   "id": "b968d402-a024-4b9d-9521-aa47c84010fd",
   "metadata": {},
   "outputs": [
    {
     "name": "stdout",
     "output_type": "stream",
     "text": [
      "6\n"
     ]
    }
   ],
   "source": [
    "sum = lambda a,b,c:a+b+c\n",
    "print(sum(1,2,3))"
   ]
  },
  {
   "cell_type": "markdown",
   "id": "337d2bea-fe6c-4bd2-b653-46e6ca9bf5be",
   "metadata": {},
   "source": [
    "## map"
   ]
  },
  {
   "cell_type": "code",
   "execution_count": 31,
   "id": "2a9eb48b-fc08-4c1b-b6a2-782f0326fcef",
   "metadata": {},
   "outputs": [
    {
     "data": {
      "text/plain": [
       "[1, 4, 9, 16, 25, 36]"
      ]
     },
     "execution_count": 31,
     "metadata": {},
     "output_type": "execute_result"
    }
   ],
   "source": [
    "li = [1,2,3,4,5,6]\n",
    "\n",
    "sq = list(map(lambda x:x**2,li))\n",
    "sq"
   ]
  },
  {
   "cell_type": "code",
   "execution_count": 33,
   "id": "189f2367-d108-44b0-a15f-77729c2c487d",
   "metadata": {},
   "outputs": [
    {
     "data": {
      "text/plain": [
       "[5, 7, 9]"
      ]
     },
     "execution_count": 33,
     "metadata": {},
     "output_type": "execute_result"
    }
   ],
   "source": [
    "l1 = [1,2,3]\n",
    "l2 = [4,5,6]\n",
    "\n",
    "add = list(map(lambda x,y:x+y , l1,l2))\n",
    "add"
   ]
  },
  {
   "cell_type": "code",
   "execution_count": 39,
   "id": "a47e7bee-85af-4cdd-985b-2efec9a9c454",
   "metadata": {},
   "outputs": [
    {
     "data": {
      "text/plain": [
       "['APPLE', 'MANGO', 'WATERMELON', 'LICCHI', 'BANANA', 'GUAVA']"
      ]
     },
     "execution_count": 39,
     "metadata": {},
     "output_type": "execute_result"
    }
   ],
   "source": [
    "list2 = ['apple','mango','watermelon','licchi','banana','guava']\n",
    "\n",
    "# up = list(map(lambda x: x.upper(),list2))\n",
    "up = list(map(str.upper,list2))\n",
    "\n",
    "up"
   ]
  },
  {
   "cell_type": "markdown",
   "id": "260a1a59-152a-4716-9253-753f92bfb081",
   "metadata": {},
   "source": [
    "## filter"
   ]
  },
  {
   "cell_type": "code",
   "execution_count": 44,
   "id": "19b15c1b-2f16-4bcf-8e35-cf8fbc26c659",
   "metadata": {},
   "outputs": [
    {
     "data": {
      "text/plain": [
       "[2, 4, 6, 8, 10]"
      ]
     },
     "execution_count": 44,
     "metadata": {},
     "output_type": "execute_result"
    }
   ],
   "source": [
    "def even(n):\n",
    "    if n%2 == 0:\n",
    "      return True\n",
    "        \n",
    "num = [1,2,3,4,5,6,7,8,9,10]\n",
    "even = list(filter(even,num))\n",
    "\n",
    "even"
   ]
  },
  {
   "cell_type": "code",
   "execution_count": 46,
   "id": "65ef3f08-8514-4bb4-a2fb-d7603a7c774c",
   "metadata": {},
   "outputs": [
    {
     "data": {
      "text/plain": [
       "[6, 7, 8, 9, 10]"
      ]
     },
     "execution_count": 46,
     "metadata": {},
     "output_type": "execute_result"
    }
   ],
   "source": [
    "big = list(filter(lambda x: x>5, num))\n",
    "big"
   ]
  },
  {
   "cell_type": "code",
   "execution_count": 59,
   "id": "660f1b65-f58f-43b3-aff9-9e5f569e6bd3",
   "metadata": {},
   "outputs": [
    {
     "data": {
      "text/plain": [
       "['thor']"
      ]
     },
     "execution_count": 59,
     "metadata": {},
     "output_type": "execute_result"
    }
   ],
   "source": [
    "student = {\n",
    "    'ironman': {'age':50,'location':'LA'},\n",
    "    'captain america' : {'age':80, 'location':'NWK'},\n",
    "    'thor': {'age': 1500 , 'location': 'asgard'}\n",
    "}\n",
    "\n",
    "def filt(person):\n",
    "    if student[person]['age']>100:\n",
    "        return True\n",
    "            \n",
    "older = list(filter(filt,student))\n",
    "older"
   ]
  },
  {
   "cell_type": "code",
   "execution_count": null,
   "id": "82b2a635-eab1-4e13-bc4c-5d3645a282a2",
   "metadata": {},
   "outputs": [],
   "source": []
  }
 ],
 "metadata": {
  "kernelspec": {
   "display_name": "Python 3 (ipykernel)",
   "language": "python",
   "name": "python3"
  },
  "language_info": {
   "codemirror_mode": {
    "name": "ipython",
    "version": 3
   },
   "file_extension": ".py",
   "mimetype": "text/x-python",
   "name": "python",
   "nbconvert_exporter": "python",
   "pygments_lexer": "ipython3",
   "version": "3.13.5"
  }
 },
 "nbformat": 4,
 "nbformat_minor": 5
}
