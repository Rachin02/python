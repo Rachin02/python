{
 "cells": [
  {
   "cell_type": "code",
   "execution_count": 1,
   "id": "14c04cac-58b4-49d3-adb5-cf46a9000225",
   "metadata": {},
   "outputs": [
    {
     "name": "stdout",
     "output_type": "stream",
     "text": [
      "hi i am naruto\n",
      "dattebayo\n"
     ]
    }
   ],
   "source": [
    "## reading from a file\n",
    "\n",
    "with open('example.txt','r') as file:\n",
    "    cont1 = file.read()\n",
    "    print(cont1)"
   ]
  },
  {
   "cell_type": "code",
   "execution_count": 4,
   "id": "8c407f81-38dc-455c-b434-7ef17342d55d",
   "metadata": {},
   "outputs": [
    {
     "name": "stdout",
     "output_type": "stream",
     "text": [
      "hi i am naruto\n",
      "dattebayo\n"
     ]
    }
   ],
   "source": [
    "with open('example.txt','r') as file:\n",
    "    for line in file:\n",
    "        print(line.strip())"
   ]
  },
  {
   "cell_type": "code",
   "execution_count": 7,
   "id": "67df3f1a-a90d-4ee2-8149-ec712c302d27",
   "metadata": {},
   "outputs": [],
   "source": [
    "## writting to a file\n",
    "\n",
    "with open('example.txt','w') as file:\n",
    "    file.write('hi everyone')"
   ]
  },
  {
   "cell_type": "code",
   "execution_count": 8,
   "id": "139dbc49-a0b2-4d0b-af5f-40daf5e08f40",
   "metadata": {},
   "outputs": [],
   "source": [
    "## adding text to a a file\n",
    "\n",
    "with open('example.txt','a') as file:\n",
    "    file.write('naruto hokage')"
   ]
  },
  {
   "cell_type": "code",
   "execution_count": 10,
   "id": "f4e12395-8c11-489c-95ae-921f727885a1",
   "metadata": {},
   "outputs": [],
   "source": [
    "lines = ['hi \\n','hello \\n']\n",
    "with open('example.txt','a') as file:\n",
    "    file.writelines(lines)"
   ]
  },
  {
   "cell_type": "code",
   "execution_count": 13,
   "id": "6d091005-12e8-4ee6-a484-b41e011b2bd5",
   "metadata": {},
   "outputs": [],
   "source": [
    "with open('example.txt','r') as file:\n",
    "    cont = file.read()\n",
    "with open('ans.txt','w') as file:\n",
    "    file.write(cont)"
   ]
  },
  {
   "cell_type": "code",
   "execution_count": 27,
   "id": "85503593-7fc6-4025-80d0-741f619b365c",
   "metadata": {},
   "outputs": [
    {
     "name": "stdout",
     "output_type": "stream",
     "text": [
      "2\n",
      "8\n",
      "45\n"
     ]
    }
   ],
   "source": [
    "## total line,word,character count in a file\n",
    "\n",
    "with open('ans.txt','r') as file:\n",
    "    lines = file.readlines()\n",
    "    line = len(lines)\n",
    "    print(line)\n",
    "\n",
    "    word = sum(len(line.split()) for line in lines)\n",
    "    print(word)\n",
    "\n",
    "    char = sum(len(line) for line in lines)\n",
    "    print(char)\n",
    "    "
   ]
  },
  {
   "cell_type": "code",
   "execution_count": 33,
   "id": "1c6ec481-835e-45c2-b0fe-a31c039b71b7",
   "metadata": {},
   "outputs": [
    {
     "name": "stdout",
     "output_type": "stream",
     "text": [
      "thanks for trying\n"
     ]
    }
   ],
   "source": [
    "## writting and reading at the same time\n",
    "\n",
    "with open('ans.txt','w+') as file:\n",
    "    file.write('thanks for trying')\n",
    "\n",
    "    file.seek(0)  ## this line takes the cursor at the begining . without this the coursor will point at the end.\n",
    "\n",
    "    con = file.read()\n",
    "    print(con)"
   ]
  },
  {
   "cell_type": "markdown",
   "id": "9c9186b2-3294-42de-8d2d-57221dbac9ff",
   "metadata": {},
   "source": [
    "## work with path"
   ]
  },
  {
   "cell_type": "code",
   "execution_count": 34,
   "id": "5414d9d8-2dd4-4dc8-bbf8-896a943324b2",
   "metadata": {},
   "outputs": [],
   "source": [
    "fold = 'package'\n",
    "import os\n",
    "\n",
    "os.mkdir(fold)"
   ]
  },
  {
   "cell_type": "code",
   "execution_count": 39,
   "id": "03a5b359-88ed-4e86-ac5c-fba698a3e67a",
   "metadata": {},
   "outputs": [
    {
     "data": {
      "text/plain": [
       "['ans.txt',\n",
       " '3.tuple.ipynb',\n",
       " 'txt_file',\n",
       " '4.dictionary.ipynb',\n",
       " '5.function.ipynb',\n",
       " '6.Import_module.ipynb',\n",
       " '1.basic_python.ipynb',\n",
       " '8.file_handling.ipynb',\n",
       " 'example.txt',\n",
       " '.ipynb_checkpoints',\n",
       " '.git',\n",
       " '7.exceptionHandling.ipynb',\n",
       " 'package',\n",
       " '2.List.ipynb']"
      ]
     },
     "execution_count": 39,
     "metadata": {},
     "output_type": "execute_result"
    }
   ],
   "source": [
    "## total list in the current directory\n",
    "list1 = os.listdir('.')\n",
    "list1"
   ]
  },
  {
   "cell_type": "code",
   "execution_count": 42,
   "id": "96cfa734-ada6-4407-a67a-398134012d50",
   "metadata": {},
   "outputs": [
    {
     "data": {
      "text/plain": [
       "'python/ans.txt'"
      ]
     },
     "execution_count": 42,
     "metadata": {},
     "output_type": "execute_result"
    }
   ],
   "source": [
    "## join 2 path\n",
    "\n",
    "folder = 'python'\n",
    "file = 'ans.txt'\n",
    "\n",
    "path = os.path.join(folder,file)\n",
    "path\n"
   ]
  },
  {
   "cell_type": "code",
   "execution_count": 44,
   "id": "4afd45b6-11f9-4afc-b779-dca954949a85",
   "metadata": {},
   "outputs": [
    {
     "data": {
      "text/plain": [
       "'/Users/rachin/Desktop/rachin/Ai engineer/Python/python/ans.txt'"
      ]
     },
     "execution_count": 44,
     "metadata": {},
     "output_type": "execute_result"
    }
   ],
   "source": [
    "path = os.path.join(os.getcwd(),folder,file)\n",
    "path"
   ]
  },
  {
   "cell_type": "code",
   "execution_count": 48,
   "id": "3082b431-b60c-4b80-a2b3-8a4afdf5ba1d",
   "metadata": {},
   "outputs": [
    {
     "name": "stdout",
     "output_type": "stream",
     "text": [
      "path exist\n"
     ]
    }
   ],
   "source": [
    "path= 'ans.txt'\n",
    "\n",
    "if os.path.exists(path):\n",
    "    print(\"path exist\")\n",
    "else:\n",
    "    print(\"not exist\")\n",
    "    "
   ]
  },
  {
   "cell_type": "code",
   "execution_count": 49,
   "id": "680ae033-7532-431b-8a25-446961a85ca2",
   "metadata": {},
   "outputs": [
    {
     "data": {
      "text/plain": [
       "True"
      ]
     },
     "execution_count": 49,
     "metadata": {},
     "output_type": "execute_result"
    }
   ],
   "source": [
    "os.path.isfile('ans.txt')"
   ]
  },
  {
   "cell_type": "code",
   "execution_count": 50,
   "id": "2702d5bc-5f3e-4a5f-814b-1b19b457eb32",
   "metadata": {},
   "outputs": [
    {
     "data": {
      "text/plain": [
       "False"
      ]
     },
     "execution_count": 50,
     "metadata": {},
     "output_type": "execute_result"
    }
   ],
   "source": [
    "os.path.isfile('package')"
   ]
  },
  {
   "cell_type": "code",
   "execution_count": 51,
   "id": "d88d137b-7e29-4704-871b-47b6d7177e71",
   "metadata": {},
   "outputs": [
    {
     "data": {
      "text/plain": [
       "True"
      ]
     },
     "execution_count": 51,
     "metadata": {},
     "output_type": "execute_result"
    }
   ],
   "source": [
    "os.path.isdir('package')"
   ]
  },
  {
   "cell_type": "code",
   "execution_count": 52,
   "id": "e8347b8a-afd9-4514-bd12-a2cf694b5521",
   "metadata": {},
   "outputs": [
    {
     "data": {
      "text/plain": [
       "'/Users/rachin/Desktop/rachin/Ai engineer/Python/ans.txt'"
      ]
     },
     "execution_count": 52,
     "metadata": {},
     "output_type": "execute_result"
    }
   ],
   "source": [
    "path= 'ans.txt'\n",
    "os.path.abspath(path)"
   ]
  },
  {
   "cell_type": "code",
   "execution_count": null,
   "id": "c96e24b8-20bb-4c28-b811-ffe2fcbb497a",
   "metadata": {},
   "outputs": [],
   "source": []
  }
 ],
 "metadata": {
  "kernelspec": {
   "display_name": "Python 3 (ipykernel)",
   "language": "python",
   "name": "python3"
  },
  "language_info": {
   "codemirror_mode": {
    "name": "ipython",
    "version": 3
   },
   "file_extension": ".py",
   "mimetype": "text/x-python",
   "name": "python",
   "nbconvert_exporter": "python",
   "pygments_lexer": "ipython3",
   "version": "3.13.5"
  }
 },
 "nbformat": 4,
 "nbformat_minor": 5
}
