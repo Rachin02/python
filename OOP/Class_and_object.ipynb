{
 "cells": [
  {
   "cell_type": "markdown",
   "id": "b093bf9a-a331-4051-8e87-8ecac15b1f84",
   "metadata": {},
   "source": [
    "## a class is a blueprint for creating a object"
   ]
  },
  {
   "cell_type": "markdown",
   "id": "4fe14626-4e39-4634-b595-f4687ba250dd",
   "metadata": {},
   "source": [
    "### class and object"
   ]
  },
  {
   "cell_type": "code",
   "execution_count": 13,
   "id": "f3da578d-2c2a-4eb1-aab4-c39873ccf592",
   "metadata": {},
   "outputs": [
    {
     "name": "stdout",
     "output_type": "stream",
     "text": [
      "100\n",
      "18998988 is added to tony's acount\n"
     ]
    },
    {
     "data": {
      "text/plain": [
       "18999000"
      ]
     },
     "execution_count": 13,
     "metadata": {},
     "output_type": "execute_result"
    }
   ],
   "source": [
    "## bank is a class and tony is an object\n",
    "class Bank:\n",
    "    def __init__(self,owner,balance = 0):   ##constructor\n",
    "        self.owner = owner     ## instance variable\n",
    "        self.balance = balance\n",
    "\n",
    "    def deposit(self,amount):\n",
    "        self.balance+=amount\n",
    "        print(f'{amount} is added to {self.owner}\\'s acount')\n",
    "\n",
    "    def withdraw(self, amount):\n",
    "        if amount > self.balance:\n",
    "            print('you can not withdraw')\n",
    "        else:\n",
    "            self.balance-=amount\n",
    "\n",
    "    def getBalance(self):\n",
    "        return self.balance\n",
    "        \n",
    "\n",
    "tony = Bank('tony',100)\n",
    "print(tony.getBalance())\n",
    "\n",
    "tony.deposit(18998988)\n",
    "\n",
    "tony.withdraw(88)\n",
    "\n",
    "tony.getBalance()"
   ]
  },
  {
   "cell_type": "markdown",
   "id": "64e0325f-53ae-4557-8672-536bec90e4ab",
   "metadata": {},
   "source": [
    "## inheritance"
   ]
  },
  {
   "cell_type": "code",
   "execution_count": 26,
   "id": "699844e2-9cca-4fac-98f3-83822ee6a38c",
   "metadata": {},
   "outputs": [
    {
     "name": "stdout",
     "output_type": "stream",
     "text": [
      "4\n",
      "iron\n",
      "I can drive fast\n",
      "my car operates in iron\n"
     ]
    }
   ],
   "source": [
    "class Car:\n",
    "    def __init__(self,door,engine):\n",
    "        self.door = door\n",
    "        self.engine = engine\n",
    "\n",
    "    def drive(self):\n",
    "        print(\"I can drive fast\")\n",
    "\n",
    "\n",
    "class Tesla(Car):\n",
    "    def __init__(self,door,engine,isAuto):\n",
    "        super().__init__(door,engine)\n",
    "        self.isAuto = isAuto\n",
    "\n",
    "    def performance(self):\n",
    "        print(f'my car operates in {self.engine}')\n",
    "\n",
    "t = Tesla(4,'iron',True)\n",
    "print(t.door)\n",
    "print(t.engine)\n",
    "t.drive()\n",
    "t.performance()"
   ]
  },
  {
   "cell_type": "code",
   "execution_count": 36,
   "id": "c38c4b71-3ef1-4957-b547-9b6d8f205c14",
   "metadata": {},
   "outputs": [
    {
     "name": "stdout",
     "output_type": "stream",
     "text": [
      "My pet sound like meaoooooo\n",
      "thor has a pet name mochi\n"
     ]
    }
   ],
   "source": [
    "class Animal:\n",
    "    def __init__(self,name,s):\n",
    "        self.name= name\n",
    "        self.s = s\n",
    "\n",
    "    def sound(self):\n",
    "        print(f'My pet sound like {self.s}')\n",
    "\n",
    "class Owner:\n",
    "    def __init__(self,owner):\n",
    "        self.owner = owner\n",
    "\n",
    "class Info(Animal,Owner):\n",
    "    def __init__(self,name,s,owner):\n",
    "        Animal.__init__(self,name,s)\n",
    "        Owner.__init__(self,owner)\n",
    "\n",
    "    def verify(self):\n",
    "        print(f'{self.owner} has a pet name {self.name}')\n",
    "\n",
    "\n",
    "m = Info('mochi','meaoooooo','thor')\n",
    "m.sound()\n",
    "m.verify()"
   ]
  },
  {
   "cell_type": "markdown",
   "id": "6784d102-2ae9-483d-a1dc-117595fe7b76",
   "metadata": {},
   "source": [
    "## polymorphism"
   ]
  },
  {
   "cell_type": "markdown",
   "id": "00d3c2e3-d816-4da9-aaf2-5e138ef3303d",
   "metadata": {},
   "source": [
    "poly means many and morphism means form. means same variable and method can be use in different word . \n",
    "example shape and sound .\n",
    "### also method overriding means if child class have the same method as the parent class then child class method will override the method of parent classe . below code have clear summary"
   ]
  },
  {
   "cell_type": "code",
   "execution_count": 44,
   "id": "7b78ed1d-391a-404b-85c2-b9fdea812dcc",
   "metadata": {},
   "outputs": [
    {
     "name": "stdout",
     "output_type": "stream",
     "text": [
      "sound like animal\n",
      "sound like cat\n",
      "sound like dog\n",
      "sound like cat\n"
     ]
    }
   ],
   "source": [
    "class Animal:\n",
    "    def sound(self):\n",
    "        print(\"sound like animal\")\n",
    "\n",
    "class Cat(Animal):\n",
    "    def sound(self):\n",
    "        print(\"sound like cat\")\n",
    "\n",
    "class Dog(Animal):\n",
    "    def sound(self):\n",
    "        print(\"sound like dog\")\n",
    "\n",
    "def print_ans(pet):\n",
    "    return pet.sound() \n",
    "    \n",
    "a = Animal()\n",
    "a.sound()\n",
    "\n",
    "c = Cat()\n",
    "c.sound()\n",
    "\n",
    "d = Dog()\n",
    "d.sound()\n",
    "\n",
    "print_ans(c)"
   ]
  },
  {
   "cell_type": "code",
   "execution_count": 50,
   "id": "87bc8d27-d85b-4e1e-9188-f53f2004b883",
   "metadata": {},
   "outputs": [
    {
     "name": "stdout",
     "output_type": "stream",
     "text": [
      "the area is empty\n",
      "answer is:  None\n",
      "answer is:  20\n",
      "50.2656\n"
     ]
    }
   ],
   "source": [
    "class Shape:\n",
    "    def area(self):\n",
    "        print('the area is empty')\n",
    "\n",
    "class Rectangle(Shape):\n",
    "    def __init__(self,h,w):\n",
    "        self.h = h\n",
    "        self.w = w\n",
    "    def area(self):\n",
    "        return self.h*self.w\n",
    "\n",
    "class Circle(Shape):\n",
    "    def __init__(self,r):\n",
    "        self.r = r\n",
    "    def area(self):\n",
    "        return 3.1416*self.r*self.r\n",
    "\n",
    "def area_cal(type):\n",
    "    print('answer is: ',type.area())\n",
    "\n",
    "s = Shape()\n",
    "area_cal(s)\n",
    "\n",
    "r = Rectangle(4,5)\n",
    "area_cal(r)\n",
    "\n",
    "c = Circle(4)\n",
    "print(c.area())"
   ]
  },
  {
   "cell_type": "markdown",
   "id": "4fb07864-2146-4002-b879-723e49c002a1",
   "metadata": {},
   "source": [
    "## Encapsulation"
   ]
  },
  {
   "cell_type": "markdown",
   "id": "bde9bd3d-472f-4161-8616-c7612894a677",
   "metadata": {},
   "source": [
    "making our code private and protected\n",
    "pulich variable = name\n",
    "private variable = __name\n",
    "protected variable = _name"
   ]
  },
  {
   "cell_type": "code",
   "execution_count": 56,
   "id": "e89998a0-9e27-4586-9fa7-811ae6e64d93",
   "metadata": {},
   "outputs": [
    {
     "name": "stdout",
     "output_type": "stream",
     "text": [
      "Minato\n",
      "naruto\n"
     ]
    }
   ],
   "source": [
    "class Info:\n",
    "    def __init__(self,name):\n",
    "        self.__name = name\n",
    "\n",
    "    def setter(self,value):\n",
    "        self.__name = value\n",
    "    def getter(self):\n",
    "        return self.__name\n",
    "\n",
    "hokage = Info('Minato')    \n",
    "print(hokage.getter())\n",
    "\n",
    "hokage.setter('naruto')\n",
    "print(hokage.getter())"
   ]
  },
  {
   "cell_type": "code",
   "execution_count": 57,
   "id": "09384484-96e7-47cb-9ae9-5b8a2855bf6a",
   "metadata": {},
   "outputs": [
    {
     "data": {
      "text/plain": [
       "['_Info__name',\n",
       " '__class__',\n",
       " '__delattr__',\n",
       " '__dict__',\n",
       " '__dir__',\n",
       " '__doc__',\n",
       " '__eq__',\n",
       " '__firstlineno__',\n",
       " '__format__',\n",
       " '__ge__',\n",
       " '__getattribute__',\n",
       " '__getstate__',\n",
       " '__gt__',\n",
       " '__hash__',\n",
       " '__init__',\n",
       " '__init_subclass__',\n",
       " '__le__',\n",
       " '__lt__',\n",
       " '__module__',\n",
       " '__ne__',\n",
       " '__new__',\n",
       " '__reduce__',\n",
       " '__reduce_ex__',\n",
       " '__repr__',\n",
       " '__setattr__',\n",
       " '__sizeof__',\n",
       " '__static_attributes__',\n",
       " '__str__',\n",
       " '__subclasshook__',\n",
       " '__weakref__',\n",
       " 'getter',\n",
       " 'setter']"
      ]
     },
     "execution_count": 57,
     "metadata": {},
     "output_type": "execute_result"
    }
   ],
   "source": [
    "dir(hokage)"
   ]
  },
  {
   "cell_type": "markdown",
   "id": "8d3291a7-898f-4339-adc5-02fd65cdb7e1",
   "metadata": {},
   "source": [
    "## Abstraction\n",
    "abstraction is the concepts fo hiding complex implementation details and showing only the necessary feature of an object. This helps reducing programming complex and effort.\n",
    "\n",
    "if any child class inherit a abstract class . then you mush have to write the abstract method to that child class"
   ]
  },
  {
   "cell_type": "code",
   "execution_count": 68,
   "id": "4100314f-05fc-4d71-8ba8-30a202f51cdd",
   "metadata": {},
   "outputs": [
    {
     "name": "stdout",
     "output_type": "stream",
     "text": [
      "i can run fast\n",
      "I am meawwww\n"
     ]
    }
   ],
   "source": [
    "from abc import ABC,abstractmethod\n",
    "\n",
    "class Animal(ABC):\n",
    "    def run(self):\n",
    "        print(\"i can run fast\")\n",
    "    @abstractmethod\n",
    "    def sound(self):\n",
    "        pass\n",
    "\n",
    "class cat(Animal):\n",
    "    def like(self):\n",
    "        print(\"i like cat\")\n",
    "    def sound(self):\n",
    "        print(\"I am meawwww\")\n",
    "\n",
    "\n",
    "c = cat()\n",
    "c.run()\n",
    "c.sound()"
   ]
  },
  {
   "cell_type": "markdown",
   "id": "e9cc1dc3-2568-49a7-937f-509feab2c3cb",
   "metadata": {},
   "source": [
    "## Magic method\n",
    "start and end with double under score"
   ]
  },
  {
   "cell_type": "code",
   "execution_count": 70,
   "id": "8c58b9cb-17ed-4cd4-baae-d16610860f7f",
   "metadata": {},
   "outputs": [
    {
     "name": "stdout",
     "output_type": "stream",
     "text": [
      "<__main__.Person object at 0x10c48acf0>\n"
     ]
    }
   ],
   "source": [
    "class Person:\n",
    "    def __init__(self,name):\n",
    "        self.name = name\n",
    "    def __str__(self):\n",
    "        print\n",
    "h = Person('hulk')\n",
    "print(h)"
   ]
  },
  {
   "cell_type": "code",
   "execution_count": null,
   "id": "35566503-d5a4-4c1f-b056-c99efe93b94d",
   "metadata": {},
   "outputs": [],
   "source": []
  }
 ],
 "metadata": {
  "kernelspec": {
   "display_name": "Python 3 (ipykernel)",
   "language": "python",
   "name": "python3"
  },
  "language_info": {
   "codemirror_mode": {
    "name": "ipython",
    "version": 3
   },
   "file_extension": ".py",
   "mimetype": "text/x-python",
   "name": "python",
   "nbconvert_exporter": "python",
   "pygments_lexer": "ipython3",
   "version": "3.13.5"
  }
 },
 "nbformat": 4,
 "nbformat_minor": 5
}
