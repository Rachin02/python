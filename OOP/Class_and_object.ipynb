{
 "cells": [
  {
   "cell_type": "markdown",
   "id": "b093bf9a-a331-4051-8e87-8ecac15b1f84",
   "metadata": {},
   "source": [
    "## a class is a blueprint for creating a object"
   ]
  },
  {
   "cell_type": "markdown",
   "id": "4fe14626-4e39-4634-b595-f4687ba250dd",
   "metadata": {},
   "source": [
    "### class and object"
   ]
  },
  {
   "cell_type": "code",
   "execution_count": 13,
   "id": "f3da578d-2c2a-4eb1-aab4-c39873ccf592",
   "metadata": {},
   "outputs": [
    {
     "name": "stdout",
     "output_type": "stream",
     "text": [
      "100\n",
      "18998988 is added to tony's acount\n"
     ]
    },
    {
     "data": {
      "text/plain": [
       "18999000"
      ]
     },
     "execution_count": 13,
     "metadata": {},
     "output_type": "execute_result"
    }
   ],
   "source": [
    "## bank is a class and tony is an object\n",
    "class Bank:\n",
    "    def __init__(self,owner,balance = 0):   ##constructor\n",
    "        self.owner = owner     ## instance variable\n",
    "        self.balance = balance\n",
    "\n",
    "    def deposit(self,amount):\n",
    "        self.balance+=amount\n",
    "        print(f'{amount} is added to {self.owner}\\'s acount')\n",
    "\n",
    "    def withdraw(self, amount):\n",
    "        if amount > self.balance:\n",
    "            print('you can not withdraw')\n",
    "        else:\n",
    "            self.balance-=amount\n",
    "\n",
    "    def getBalance(self):\n",
    "        return self.balance\n",
    "        \n",
    "\n",
    "tony = Bank('tony',100)\n",
    "print(tony.getBalance())\n",
    "\n",
    "tony.deposit(18998988)\n",
    "\n",
    "tony.withdraw(88)\n",
    "\n",
    "tony.getBalance()"
   ]
  },
  {
   "cell_type": "markdown",
   "id": "64e0325f-53ae-4557-8672-536bec90e4ab",
   "metadata": {},
   "source": [
    "## inheritance"
   ]
  },
  {
   "cell_type": "code",
   "execution_count": 26,
   "id": "699844e2-9cca-4fac-98f3-83822ee6a38c",
   "metadata": {},
   "outputs": [
    {
     "name": "stdout",
     "output_type": "stream",
     "text": [
      "4\n",
      "iron\n",
      "I can drive fast\n",
      "my car operates in iron\n"
     ]
    }
   ],
   "source": [
    "class Car:\n",
    "    def __init__(self,door,engine):\n",
    "        self.door = door\n",
    "        self.engine = engine\n",
    "\n",
    "    def drive(self):\n",
    "        print(\"I can drive fast\")\n",
    "\n",
    "\n",
    "class Tesla(Car):\n",
    "    def __init__(self,door,engine,isAuto):\n",
    "        super().__init__(door,engine)\n",
    "        self.isAuto = isAuto\n",
    "\n",
    "    def performance(self):\n",
    "        print(f'my car operates in {self.engine}')\n",
    "\n",
    "t = Tesla(4,'iron',True)\n",
    "print(t.door)\n",
    "print(t.engine)\n",
    "t.drive()\n",
    "t.performance()"
   ]
  },
  {
   "cell_type": "code",
   "execution_count": 36,
   "id": "c38c4b71-3ef1-4957-b547-9b6d8f205c14",
   "metadata": {},
   "outputs": [
    {
     "name": "stdout",
     "output_type": "stream",
     "text": [
      "My pet sound like meaoooooo\n",
      "thor has a pet name mochi\n"
     ]
    }
   ],
   "source": [
    "class Animal:\n",
    "    def __init__(self,name,s):\n",
    "        self.name= name\n",
    "        self.s = s\n",
    "\n",
    "    def sound(self):\n",
    "        print(f'My pet sound like {self.s}')\n",
    "\n",
    "class Owner:\n",
    "    def __init__(self,owner):\n",
    "        self.owner = owner\n",
    "\n",
    "class Info(Animal,Owner):\n",
    "    def __init__(self,name,s,owner):\n",
    "        Animal.__init__(self,name,s)\n",
    "        Owner.__init__(self,owner)\n",
    "\n",
    "    def verify(self):\n",
    "        print(f'{self.owner} has a pet name {self.name}')\n",
    "\n",
    "\n",
    "m = Info('mochi','meaoooooo','thor')\n",
    "m.sound()\n",
    "m.verify()"
   ]
  },
  {
   "cell_type": "markdown",
   "id": "6784d102-2ae9-483d-a1dc-117595fe7b76",
   "metadata": {},
   "source": [
    "## polymorphism"
   ]
  },
  {
   "cell_type": "markdown",
   "id": "00d3c2e3-d816-4da9-aaf2-5e138ef3303d",
   "metadata": {},
   "source": [
    "poly means many and morphism means form. means same variable and method can be use in different word . \n",
    "example shape and sound .\n",
    "### also method overriding means if child class have the same method as the parent class then child class method will override the method of parent classe . below code have clear summary"
   ]
  },
  {
   "cell_type": "code",
   "execution_count": 44,
   "id": "7b78ed1d-391a-404b-85c2-b9fdea812dcc",
   "metadata": {},
   "outputs": [
    {
     "name": "stdout",
     "output_type": "stream",
     "text": [
      "sound like animal\n",
      "sound like cat\n",
      "sound like dog\n",
      "sound like cat\n"
     ]
    }
   ],
   "source": [
    "class Animal:\n",
    "    def sound(self):\n",
    "        print(\"sound like animal\")\n",
    "\n",
    "class Cat(Animal):\n",
    "    def sound(self):\n",
    "        print(\"sound like cat\")\n",
    "\n",
    "class Dog(Animal):\n",
    "    def sound(self):\n",
    "        print(\"sound like dog\")\n",
    "\n",
    "def print_ans(pet):\n",
    "    return pet.sound() \n",
    "    \n",
    "a = Animal()\n",
    "a.sound()\n",
    "\n",
    "c = Cat()\n",
    "c.sound()\n",
    "\n",
    "d = Dog()\n",
    "d.sound()\n",
    "\n",
    "print_ans(c)"
   ]
  },
  {
   "cell_type": "code",
   "execution_count": 50,
   "id": "87bc8d27-d85b-4e1e-9188-f53f2004b883",
   "metadata": {},
   "outputs": [
    {
     "name": "stdout",
     "output_type": "stream",
     "text": [
      "the area is empty\n",
      "answer is:  None\n",
      "answer is:  20\n",
      "50.2656\n"
     ]
    }
   ],
   "source": [
    "class Shape:\n",
    "    def area(self):\n",
    "        print('the area is empty')\n",
    "\n",
    "class Rectangle(Shape):\n",
    "    def __init__(self,h,w):\n",
    "        self.h = h\n",
    "        self.w = w\n",
    "    def area(self):\n",
    "        return self.h*self.w\n",
    "\n",
    "class Circle(Shape):\n",
    "    def __init__(self,r):\n",
    "        self.r = r\n",
    "    def area(self):\n",
    "        return 3.1416*self.r*self.r\n",
    "\n",
    "def area_cal(type):\n",
    "    print('answer is: ',type.area())\n",
    "\n",
    "s = Shape()\n",
    "area_cal(s)\n",
    "\n",
    "r = Rectangle(4,5)\n",
    "area_cal(r)\n",
    "\n",
    "c = Circle(4)\n",
    "print(c.area())"
   ]
  },
  {
   "cell_type": "code",
   "execution_count": null,
   "id": "64fac3f8-35c0-4b2f-8fc4-c3786e99a358",
   "metadata": {},
   "outputs": [],
   "source": []
  }
 ],
 "metadata": {
  "kernelspec": {
   "display_name": "Python 3 (ipykernel)",
   "language": "python",
   "name": "python3"
  },
  "language_info": {
   "codemirror_mode": {
    "name": "ipython",
    "version": 3
   },
   "file_extension": ".py",
   "mimetype": "text/x-python",
   "name": "python",
   "nbconvert_exporter": "python",
   "pygments_lexer": "ipython3",
   "version": "3.13.5"
  }
 },
 "nbformat": 4,
 "nbformat_minor": 5
}
