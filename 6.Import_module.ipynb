{
 "cells": [
  {
   "cell_type": "code",
   "execution_count": 2,
   "id": "ce63acfc-8d1e-4178-b8f3-eb57ab9a145c",
   "metadata": {},
   "outputs": [
    {
     "name": "stdout",
     "output_type": "stream",
     "text": [
      "3.141592653589793\n"
     ]
    },
    {
     "data": {
      "text/plain": [
       "2.0"
      ]
     },
     "execution_count": 2,
     "metadata": {},
     "output_type": "execute_result"
    }
   ],
   "source": [
    "import math\n",
    "print(math.pi)\n",
    "s = math.sqrt(4)\n",
    "s"
   ]
  },
  {
   "cell_type": "code",
   "execution_count": 4,
   "id": "aa75f59f-4dff-4b70-b799-1f014a663f21",
   "metadata": {},
   "outputs": [
    {
     "name": "stdout",
     "output_type": "stream",
     "text": [
      "4\n"
     ]
    }
   ],
   "source": [
    "from math import ceil\n",
    "print(math.ceil(3.3))"
   ]
  },
  {
   "cell_type": "code",
   "execution_count": 5,
   "id": "562a28b7-5a88-4074-8e1c-29ac162964cd",
   "metadata": {},
   "outputs": [
    {
     "name": "stdout",
     "output_type": "stream",
     "text": [
      "9\n"
     ]
    }
   ],
   "source": [
    "from math import *\n",
    "print(math.gcd(9))"
   ]
  },
  {
   "cell_type": "code",
   "execution_count": 10,
   "id": "a46fac89-2de8-4274-88a2-8c08e6b8dc13",
   "metadata": {},
   "outputs": [],
   "source": [
    "### for .py file\n",
    "## from function import check"
   ]
  },
  {
   "cell_type": "markdown",
   "id": "cb34cd27-54c3-43d7-84d7-4c88ace2923f",
   "metadata": {},
   "source": [
    "# standard function"
   ]
  },
  {
   "cell_type": "code",
   "execution_count": null,
   "id": "505d645f-52ac-409a-acec-b3067668f900",
   "metadata": {},
   "outputs": [],
   "source": []
  }
 ],
 "metadata": {
  "kernelspec": {
   "display_name": "Python 3 (ipykernel)",
   "language": "python",
   "name": "python3"
  },
  "language_info": {
   "codemirror_mode": {
    "name": "ipython",
    "version": 3
   },
   "file_extension": ".py",
   "mimetype": "text/x-python",
   "name": "python",
   "nbconvert_exporter": "python",
   "pygments_lexer": "ipython3",
   "version": "3.13.5"
  }
 },
 "nbformat": 4,
 "nbformat_minor": 5
}
