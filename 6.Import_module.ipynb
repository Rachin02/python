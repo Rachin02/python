{
 "cells": [
  {
   "cell_type": "code",
   "execution_count": 2,
   "id": "ce63acfc-8d1e-4178-b8f3-eb57ab9a145c",
   "metadata": {},
   "outputs": [
    {
     "name": "stdout",
     "output_type": "stream",
     "text": [
      "3.141592653589793\n"
     ]
    },
    {
     "data": {
      "text/plain": [
       "2.0"
      ]
     },
     "execution_count": 2,
     "metadata": {},
     "output_type": "execute_result"
    }
   ],
   "source": [
    "import math\n",
    "print(math.pi)\n",
    "s = math.sqrt(4)\n",
    "s"
   ]
  },
  {
   "cell_type": "code",
   "execution_count": 4,
   "id": "aa75f59f-4dff-4b70-b799-1f014a663f21",
   "metadata": {},
   "outputs": [
    {
     "name": "stdout",
     "output_type": "stream",
     "text": [
      "4\n"
     ]
    }
   ],
   "source": [
    "from math import ceil\n",
    "print(math.ceil(3.3))"
   ]
  },
  {
   "cell_type": "code",
   "execution_count": 5,
   "id": "562a28b7-5a88-4074-8e1c-29ac162964cd",
   "metadata": {},
   "outputs": [
    {
     "name": "stdout",
     "output_type": "stream",
     "text": [
      "9\n"
     ]
    }
   ],
   "source": [
    "from math import *\n",
    "print(math.gcd(9))"
   ]
  },
  {
   "cell_type": "code",
   "execution_count": 10,
   "id": "a46fac89-2de8-4274-88a2-8c08e6b8dc13",
   "metadata": {},
   "outputs": [],
   "source": [
    "### for .py file\n",
    "## from file_name import check"
   ]
  },
  {
   "cell_type": "markdown",
   "id": "cb34cd27-54c3-43d7-84d7-4c88ace2923f",
   "metadata": {},
   "source": [
    "# standard function"
   ]
  },
  {
   "cell_type": "code",
   "execution_count": 15,
   "id": "505d645f-52ac-409a-acec-b3067668f900",
   "metadata": {},
   "outputs": [
    {
     "name": "stdout",
     "output_type": "stream",
     "text": [
      "9\n",
      "5\n"
     ]
    }
   ],
   "source": [
    "import random\n",
    "print(random.randint(1,10))\n",
    "print(random.choice([1,2,3,4,5,6]))"
   ]
  },
  {
   "cell_type": "code",
   "execution_count": 21,
   "id": "a21fefab-b163-46f0-8d43-e8cc78173e34",
   "metadata": {},
   "outputs": [
    {
     "name": "stdout",
     "output_type": "stream",
     "text": [
      "<class 'dict'>\n",
      "{\"name\": \"rachin\", \"age\": 23}\n",
      "<class 'str'>\n",
      "{'name': 'rachin', 'age': 23}\n",
      "<class 'dict'>\n"
     ]
    }
   ],
   "source": [
    "import json\n",
    "data = {'name':'rachin','age':23}\n",
    "print(type(data))\n",
    "\n",
    "jsonStr = json.dumps(data)\n",
    "print(jsonStr)\n",
    "print(type(jsonStr))\n",
    "\n",
    "jsonStr = json.loads(jsonStr)\n",
    "print(jsonStr)\n",
    "print(type(jsonStr))"
   ]
  },
  {
   "cell_type": "code",
   "execution_count": 24,
   "id": "a5d3c6d7-8f2e-474a-9ff1-39bb5f4083cd",
   "metadata": {},
   "outputs": [
    {
     "name": "stdout",
     "output_type": "stream",
     "text": [
      "/Users/rachin/Desktop/rachin/Ai engineer/Python\n"
     ]
    }
   ],
   "source": [
    "import os\n",
    "print(os.getcwd())"
   ]
  },
  {
   "cell_type": "code",
   "execution_count": 26,
   "id": "8a9e2b82-e681-4744-aafc-3ac2ced8dda1",
   "metadata": {},
   "outputs": [
    {
     "name": "stdout",
     "output_type": "stream",
     "text": [
      "None\n"
     ]
    }
   ],
   "source": [
    "print(os.mkdir('txt_file'))"
   ]
  },
  {
   "cell_type": "code",
   "execution_count": 31,
   "id": "ee219075-0e3c-4423-bcfe-699a8ce73fad",
   "metadata": {},
   "outputs": [
    {
     "name": "stdout",
     "output_type": "stream",
     "text": [
      "2025-10-01 00:01:11.376080\n",
      "2025-09-30 00:01:11.376080\n"
     ]
    }
   ],
   "source": [
    "from datetime import datetime,timedelta\n",
    "current = datetime.now()\n",
    "print(current)\n",
    "yesterday = current - timedelta(days = 1)\n",
    "print(yesterday)"
   ]
  },
  {
   "cell_type": "code",
   "execution_count": 34,
   "id": "991a7515-89b0-4f22-bae0-460a753188d9",
   "metadata": {},
   "outputs": [
    {
     "name": "stdout",
     "output_type": "stream",
     "text": [
      "1759255320.36901\n",
      "1759255323.371952\n"
     ]
    }
   ],
   "source": [
    "import time\n",
    "print(time.time())\n",
    "time.sleep(3)\n",
    "print(time.time())"
   ]
  },
  {
   "cell_type": "code",
   "execution_count": null,
   "id": "0cfae606-fc31-42a6-8166-ad34f040f12d",
   "metadata": {},
   "outputs": [],
   "source": []
  }
 ],
 "metadata": {
  "kernelspec": {
   "display_name": "Python 3 (ipykernel)",
   "language": "python",
   "name": "python3"
  },
  "language_info": {
   "codemirror_mode": {
    "name": "ipython",
    "version": 3
   },
   "file_extension": ".py",
   "mimetype": "text/x-python",
   "name": "python",
   "nbconvert_exporter": "python",
   "pygments_lexer": "ipython3",
   "version": "3.13.5"
  }
 },
 "nbformat": 4,
 "nbformat_minor": 5
}
