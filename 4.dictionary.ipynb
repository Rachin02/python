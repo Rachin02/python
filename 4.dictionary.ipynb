{
 "cells": [
  {
   "cell_type": "markdown",
   "id": "20950a6c-cda8-4430-aca1-a524e74a5b3d",
   "metadata": {},
   "source": [
    "## dictionary is unordered"
   ]
  },
  {
   "cell_type": "code",
   "execution_count": 8,
   "id": "8d82497f-8cda-4a73-8303-b273539a2c38",
   "metadata": {},
   "outputs": [
    {
     "name": "stdout",
     "output_type": "stream",
     "text": [
      "{'ban': 'dhaka', 'ind': 'delhi', 'us': 'WDC'}\n"
     ]
    }
   ],
   "source": [
    "d = {'ban':'dhaka','ind':'delhi','us':'WDC'}\n",
    "print(d)"
   ]
  },
  {
   "cell_type": "code",
   "execution_count": 9,
   "id": "e1cfe31d-a735-4411-bb2c-10e7db4002ea",
   "metadata": {},
   "outputs": [
    {
     "name": "stdout",
     "output_type": "stream",
     "text": [
      "dhaka\n"
     ]
    }
   ],
   "source": [
    "## accessing\n",
    "print(d['ban'])"
   ]
  },
  {
   "cell_type": "code",
   "execution_count": 10,
   "id": "6063625e-3317-4f00-bea8-7b447def6acf",
   "metadata": {},
   "outputs": [
    {
     "name": "stdout",
     "output_type": "stream",
     "text": [
      "{'ban': 'dhaka', 'ind': 'delhi', 'us': 'washingtonDC', 'uk': 'london'}\n"
     ]
    }
   ],
   "source": [
    "## modifying\n",
    "d['us'] = 'washingtonDC'\n",
    "d['uk']='london'\n",
    "print(d)"
   ]
  },
  {
   "cell_type": "code",
   "execution_count": 11,
   "id": "56f56019-d74a-49e7-8fac-f77db892d9e5",
   "metadata": {},
   "outputs": [],
   "source": [
    "## delet\n",
    "del d['uk']\n"
   ]
  },
  {
   "cell_type": "code",
   "execution_count": 13,
   "id": "19333981-24fa-4960-986e-1d5d82405362",
   "metadata": {},
   "outputs": [
    {
     "name": "stdout",
     "output_type": "stream",
     "text": [
      "{'ban': 'dhaka', 'ind': 'delhi', 'us': 'washingtonDC'}\n"
     ]
    }
   ],
   "source": [
    "print(d)"
   ]
  },
  {
   "cell_type": "code",
   "execution_count": 15,
   "id": "aeb55d4f-8347-40b1-b5a6-84497646a044",
   "metadata": {},
   "outputs": [
    {
     "name": "stdout",
     "output_type": "stream",
     "text": [
      "dict_values(['dhaka', 'delhi', 'washingtonDC'])\n",
      "dhaka\n",
      "delhi\n",
      "washingtonDC\n"
     ]
    }
   ],
   "source": [
    "print(d.values())\n",
    "\n",
    "for value in d.values():\n",
    "    print(value)"
   ]
  },
  {
   "cell_type": "code",
   "execution_count": 17,
   "id": "440f3c93-f98e-430c-9308-9c1479cb2eed",
   "metadata": {},
   "outputs": [
    {
     "name": "stdout",
     "output_type": "stream",
     "text": [
      "dict_keys(['ban', 'ind', 'us'])\n",
      "ban\n",
      "ind\n",
      "us\n"
     ]
    }
   ],
   "source": [
    "print(d.keys())\n",
    "\n",
    "for key in d.keys():\n",
    "    print(key)"
   ]
  },
  {
   "cell_type": "code",
   "execution_count": 19,
   "id": "db1f82ad-864e-4f4f-b403-d86e6e1210b6",
   "metadata": {},
   "outputs": [
    {
     "name": "stdout",
     "output_type": "stream",
     "text": [
      "ban dhaka\n",
      "ind delhi\n",
      "us washingtonDC\n"
     ]
    }
   ],
   "source": [
    "for key,value in d.items():\n",
    "    print(key,value)"
   ]
  },
  {
   "cell_type": "code",
   "execution_count": 20,
   "id": "73325060-09d3-4663-a046-8a1be41172be",
   "metadata": {},
   "outputs": [],
   "source": [
    "student = {\n",
    "    'ironman': {'age':50,'location':'LA'},\n",
    "    'captain america' : {'age':80, 'location':'NWK'},\n",
    "    'thor': {'age': 1500 , 'location': 'asgard'}\n",
    "}"
   ]
  },
  {
   "cell_type": "code",
   "execution_count": 23,
   "id": "87129f65-5f8d-43f6-bd90-b3f665f08c8f",
   "metadata": {},
   "outputs": [
    {
     "data": {
      "text/plain": [
       "'asgard'"
      ]
     },
     "execution_count": 23,
     "metadata": {},
     "output_type": "execute_result"
    }
   ],
   "source": [
    "student['thor']['location']"
   ]
  },
  {
   "cell_type": "code",
   "execution_count": 24,
   "id": "c1055d3e-cec0-4e20-9aff-a7c463f70f10",
   "metadata": {},
   "outputs": [
    {
     "name": "stdout",
     "output_type": "stream",
     "text": [
      "{0: 0, 1: 1, 2: 4, 3: 9, 4: 16, 5: 25, 6: 36, 7: 49, 8: 64, 9: 81}\n"
     ]
    }
   ],
   "source": [
    "## dictionary comprehension\n",
    "\n",
    "d = {i:i**2 for i in range(10)}\n",
    "print(d)"
   ]
  },
  {
   "cell_type": "code",
   "execution_count": 25,
   "id": "4a33b1f2-8eca-498d-b5a6-d35562607e85",
   "metadata": {},
   "outputs": [
    {
     "name": "stdout",
     "output_type": "stream",
     "text": [
      "{1: 1, 2: 2, 3: 3, 4: 4}\n"
     ]
    }
   ],
   "source": [
    "## frequency count\n",
    "l = [1,2,2,3,3,3,4,4,4,4]\n",
    "frq = {}\n",
    "for i in l:\n",
    "    if i in frq:\n",
    "        frq[i] +=1\n",
    "    else:\n",
    "        frq[i] = 1\n",
    "\n",
    "print(frq)\n"
   ]
  },
  {
   "cell_type": "code",
   "execution_count": 27,
   "id": "302eee48-d24b-4c4c-a143-7e64a29311a5",
   "metadata": {},
   "outputs": [
    {
     "name": "stdout",
     "output_type": "stream",
     "text": [
      "{'a': 1, 'b': 2, 'c': 3, 'd': 4}\n"
     ]
    }
   ],
   "source": [
    "## merged dictionary\n",
    "\n",
    "d1 = {'a':1,'b':2}\n",
    "d2 = {'c':3, 'd':4}\n",
    "merged = {**d1,**d2}\n",
    "print(merged)"
   ]
  },
  {
   "cell_type": "code",
   "execution_count": null,
   "id": "e4686ac5-f493-4da7-9087-f0b4441b00e8",
   "metadata": {},
   "outputs": [],
   "source": []
  }
 ],
 "metadata": {
  "kernelspec": {
   "display_name": "Python 3 (ipykernel)",
   "language": "python",
   "name": "python3"
  },
  "language_info": {
   "codemirror_mode": {
    "name": "ipython",
    "version": 3
   },
   "file_extension": ".py",
   "mimetype": "text/x-python",
   "name": "python",
   "nbconvert_exporter": "python",
   "pygments_lexer": "ipython3",
   "version": "3.13.5"
  }
 },
 "nbformat": 4,
 "nbformat_minor": 5
}
